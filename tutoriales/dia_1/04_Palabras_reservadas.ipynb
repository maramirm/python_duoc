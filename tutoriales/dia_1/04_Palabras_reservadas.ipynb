{
 "cells": [
  {
   "cell_type": "markdown",
   "metadata": {},
   "source": [
    "## Palabras reservadas\n",
    "\n",
    "Las palabras reservadas o keywords de Python son aquellos nombres que incorpora el lenguaje de programación y que no pueden ser reemplazados por un valor determinado o alterar su funcionamiento."
   ]
  },
  {
   "cell_type": "markdown",
   "metadata": {},
   "source": [
    "En Python 2 existen 31 palabras reservadas\n",
    "\n",
    "and as assert break\n",
    "class continue def\n",
    "del elif else except exec finally for from global if import in is lambda not or pass print raise return try while with yield"
   ]
  },
  {
   "cell_type": "code",
   "execution_count": null,
   "metadata": {},
   "outputs": [],
   "source": []
  }
 ],
 "metadata": {
  "kernelspec": {
   "display_name": "Python 3",
   "language": "python",
   "name": "python3"
  },
  "language_info": {
   "codemirror_mode": {
    "name": "ipython",
    "version": 3
   },
   "file_extension": ".py",
   "mimetype": "text/x-python",
   "name": "python",
   "nbconvert_exporter": "python",
   "pygments_lexer": "ipython3",
   "version": "3.6.3"
  }
 },
 "nbformat": 4,
 "nbformat_minor": 2
}
